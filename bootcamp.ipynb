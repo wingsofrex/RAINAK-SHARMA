{
  "nbformat": 4,
  "nbformat_minor": 0,
  "metadata": {
    "colab": {
      "name": "bootcamp.ipynb",
      "provenance": [],
      "authorship_tag": "ABX9TyMxbTXlXlzqnyJExMqKNB7H",
      "include_colab_link": true
    },
    "kernelspec": {
      "name": "python3",
      "display_name": "Python 3"
    },
    "language_info": {
      "name": "python"
    }
  },
  "cells": [
    {
      "cell_type": "markdown",
      "metadata": {
        "id": "view-in-github",
        "colab_type": "text"
      },
      "source": [
        "<a href=\"https://colab.research.google.com/github/wingsofrex/RAINAK-SHARMA/blob/master/bootcamp.ipynb\" target=\"_parent\"><img src=\"https://colab.research.google.com/assets/colab-badge.svg\" alt=\"Open In Colab\"/></a>"
      ]
    },
    {
      "cell_type": "code",
      "metadata": {
        "id": "SXosmSCtfckq"
      },
      "source": [
        "  ## Write a program to take the two numbers from users and add them"
      ],
      "execution_count": 1,
      "outputs": []
    },
    {
      "cell_type": "code",
      "metadata": {
        "colab": {
          "base_uri": "https://localhost:8080/"
        },
        "id": "IYRPDgjegMkF",
        "outputId": "d66e3ad0-0242-4e02-9a6b-e1c1f520b13a"
      },
      "source": [
        "n1 = int(input(\"enter number 1:\"))\n",
        "n2 = int(input(\"Enter number 2:\"))\n",
        "c = n1 + n2\n",
        "print(\"Sum\", c)\n"
      ],
      "execution_count": 3,
      "outputs": [
        {
          "output_type": "stream",
          "name": "stdout",
          "text": [
            "enter number 1:56\n",
            "Enter number 2:36\n",
            "Sum 92\n"
          ]
        }
      ]
    },
    {
      "cell_type": "markdown",
      "metadata": {
        "id": "bGJvzjy6hm1U"
      },
      "source": [
        "**q2** Take two int valuse from user and print greatest among them"
      ]
    },
    {
      "cell_type": "code",
      "metadata": {
        "colab": {
          "base_uri": "https://localhost:8080/"
        },
        "id": "1D5EzIBVhpd1",
        "outputId": "15a72c39-89fa-448a-fcdf-1c3126d351b1"
      },
      "source": [
        "n1 = int(input(\"ENter number1: \"))\n",
        "n2 = int(input(\"ENter number2: \"))\n",
        "\n",
        "if n1 > n2:\n",
        "  print(\"n1 is largest\", n1)\n",
        "elif n1 < n2:\n",
        "  print(\"n2 is largest\", n2)\n",
        "else:\n",
        "  print(\"Both are equal\")"
      ],
      "execution_count": 6,
      "outputs": [
        {
          "output_type": "stream",
          "name": "stdout",
          "text": [
            "ENter number1: 65\n",
            "ENter number2: 369\n",
            "n2 is largest 369\n"
          ]
        }
      ]
    },
    {
      "cell_type": "markdown",
      "metadata": {
        "id": "UllSAGEQkNl6"
      },
      "source": [
        "**q3** Take values of length adn breadth and check for rectangle or square"
      ]
    },
    {
      "cell_type": "code",
      "metadata": {
        "colab": {
          "base_uri": "https://localhost:8080/"
        },
        "id": "WzDDxJ7hkN8i",
        "outputId": "00c7b118-7354-479b-8172-3c69181d0e64"
      },
      "source": [
        "a = int(input(\"Enter the length:\\n\"))\n",
        "b = int(input(\"Enter breadth:\\n\"))\n",
        "c = a*b\n",
        "if a > b:\n",
        "  print(\"RECTANGLE\")\n",
        "elif b > a:\n",
        "  print(\"TILTED RECTANGLE\")\n",
        "else:\n",
        "  print(\"SQUARE\")\n",
        "\n",
        "print(\"Area is:\", c)"
      ],
      "execution_count": 10,
      "outputs": [
        {
          "output_type": "stream",
          "name": "stdout",
          "text": [
            "Enter the length:\n",
            "5\n",
            "Enter breadth:\n",
            "5\n",
            "SQUARE\n",
            "Area is: 25\n"
          ]
        }
      ]
    },
    {
      "cell_type": "markdown",
      "metadata": {
        "id": "jObSYHMjlqqX"
      },
      "source": [
        "**q4** A shop will discount of 10% if the cost of purchased quantiy is more than 1000. Ask user for quantity. Suppose one unit will cost 100. Judge and print total cost for user"
      ]
    },
    {
      "cell_type": "code",
      "metadata": {
        "colab": {
          "base_uri": "https://localhost:8080/"
        },
        "id": "zikv3zdWlq2C",
        "outputId": "04d44d71-272c-4e07-87b2-e77f22c1d6a5"
      },
      "source": [
        "b = int(input(\"Enter the quantity: \\n\"))\n",
        "price = b * 100\n",
        "print(\"Price is \", price)\n",
        "\n",
        "if price > 1000:\n",
        "  new_price = price * 10/100\n",
        "  print(\"New price to be paid is \", new_price)\n",
        "else:\n",
        "  print(\"PAY FULL AMOUNT\")"
      ],
      "execution_count": 12,
      "outputs": [
        {
          "output_type": "stream",
          "name": "stdout",
          "text": [
            "Enter the quantity: \n",
            "2\n",
            "Price is  200\n",
            "PAY FULL AMOUNT\n"
          ]
        }
      ]
    },
    {
      "cell_type": "markdown",
      "metadata": {
        "id": "9Vmy8rDzpmPw"
      },
      "source": [
        "**q5** A company decided to give n=bonus of 5% to emplotyee  if hisher year of servoce is mpre than five years. Ask user for their salalry and YoS and print net bonus amt"
      ]
    },
    {
      "cell_type": "code",
      "metadata": {
        "colab": {
          "base_uri": "https://localhost:8080/"
        },
        "id": "S0P4L30YpmdU",
        "outputId": "b9bf6c2c-aacb-4187-c4c8-8e88ba9dadb7"
      },
      "source": [
        "print(\"Enter the salary: \")\n",
        "a = int(input())\n",
        "\n",
        "print(\"Enter service years: \")\n",
        "b = int(input())\n",
        "\n",
        "if b > 5:\n",
        "  bonus = a * 0.05\n",
        "  new_salary = a + bonus\n",
        "  print(new_salary)\n",
        "else:\n",
        "  print(\"NO BONUS\")\n"
      ],
      "execution_count": 14,
      "outputs": [
        {
          "output_type": "stream",
          "name": "stdout",
          "text": [
            "Enter the salary: \n",
            "78000\n",
            "Enter service years: \n",
            "3\n",
            "NO BONUS\n"
          ]
        }
      ]
    },
    {
      "cell_type": "markdown",
      "metadata": {
        "id": "zmY8JjNMr3R1"
      },
      "source": [
        "**q6** A school has following rules for grading system\n",
        "---\n",
        "below 25--> f\n",
        "25 to 45 is E\n",
        "45 to 50 D\n",
        "50 to 50 is C\n",
        "60 to 80 is B\n",
        "Above 80 is A\n",
        "---\n",
        "Ask user to enter marks and print the corresponding grade"
      ]
    },
    {
      "cell_type": "code",
      "metadata": {
        "colab": {
          "base_uri": "https://localhost:8080/"
        },
        "id": "4Cjux9wOr3k1",
        "outputId": "d7be8a24-6aae-4981-d7ed-8d95faf867f2"
      },
      "source": [
        "print(\"Enter the marks:\\n\")\n",
        "a = int(input())\n",
        "\n",
        "if 80 < a < 100:\n",
        "  print(\"Grade is A\")\n",
        "elif 60 < a < 80:\n",
        "  print(\"B\")\n",
        "elif 50 < a <60:\n",
        "  print(\"C\")\n",
        "elif 45 < a <50:\n",
        "  print(\"D\")\n",
        "elif 25 < a <45:\n",
        "  print(\"E\")\n",
        "elif a < 25:\n",
        "  print(\"F\")\n",
        "else:\n",
        "  print(\"INVALID\")"
      ],
      "execution_count": 28,
      "outputs": [
        {
          "output_type": "stream",
          "name": "stdout",
          "text": [
            "Enter the marks:\n",
            "\n",
            "229\n",
            "INVALID\n"
          ]
        }
      ]
    },
    {
      "cell_type": "markdown",
      "metadata": {
        "id": "Kt1K54EEvJ0s"
      },
      "source": [
        "**q7** "
      ]
    },
    {
      "cell_type": "code",
      "metadata": {
        "id": "e62ZVdidvKL5"
      },
      "source": [
        ""
      ],
      "execution_count": null,
      "outputs": []
    }
  ]
}